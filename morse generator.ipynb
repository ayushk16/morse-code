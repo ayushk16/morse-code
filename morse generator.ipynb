{
 "cells": [
  {
   "cell_type": "code",
   "execution_count": 2,
   "metadata": {},
   "outputs": [
    {
     "name": "stdout",
     "output_type": "stream",
     "text": [
      "ayush\n",
      ".- -.-- ..- ... .... None\n"
     ]
    }
   ],
   "source": [
    "from playsound import playsound\n",
    "MORSE_CODE_DICT = {' ':'  ','a':'.-', 'b':'-...', 'c':'-.-.', 'd':'-..', 'e':'.', 'f':'..-.', 'g':'--.', 'h':'....', 'i':'..', 'j':'.---', 'k':'-.-', 'l':'.-..', 'm':'--', 'n':'-.', 'o':'---', 'p':'.--.', 'q':'--.-', 'r':'.-.', 's':'...', 't':'-', 'u':'..-', 'v':'...-', 'w':'.--', 'x':'-..-', 'y':'-.--', 'z':'--..', 'A':'.-', 'B':'-...', 'C':'-.-.', 'D':'-..', 'E':'.', 'F':'..-.', 'G':'--.', 'H':'....', 'I':'..', 'J':'.---', 'K':'-.-', 'L':'.-..', 'M':'--', 'N':'-.', 'O':'---', 'P':'.--.', 'Q':'--.-', 'R':'.-.', 'S':'...', 'T':'-', 'U':'..-', 'V':'...-', 'W':'.--', 'X':'-..-', 'Y':'-.--', 'Z':'--..', '1':'.----', '2':'..---', '3':'...--', '4':'....-', '5':'.....', '6':'-....', '7':'--...', '8':'---..', '9':'----.', '0':'-----', ', ':'--..--', '.':'.-.-.-', '?':'..--..', '/':'-..-.', '-':'-....-', '(':'-.--.', ')':'-.--.-'}\n",
    "def getmorse(n):\n",
    "    a = str(n)\n",
    "    for x in MORSE_CODE_DICT:\n",
    "        x = MORSE_CODE_DICT.get(a)\n",
    "    return(x)\n",
    "\n",
    "def sound(code):\n",
    "    \n",
    "    c = str(code)\n",
    "    for letter in c:\n",
    "        if letter == \".\":\n",
    "            playsound('A:\\morsecodes\\dot.wav')\n",
    "        elif letter == \"-\":\n",
    "            playsound('A:\\morsecodes\\dash.wav')\n",
    "            \n",
    "    playsound('A:\\morsecodes\\space.wav')\n",
    "    \n",
    "def func(n):\n",
    "    c = \"\"\n",
    "    for i in n:\n",
    "        i = getmorse(i)\n",
    "        print(i,end=\" \")\n",
    "        sound(i)\n",
    "\n",
    "\n",
    "            \n",
    "            \n",
    "            \n",
    "n = input()\n",
    "code = func(n)\n",
    "print(code)"
   ]
  },
  {
   "cell_type": "code",
   "execution_count": null,
   "metadata": {},
   "outputs": [],
   "source": []
  }
 ],
 "metadata": {
  "kernelspec": {
   "display_name": "Python 3",
   "language": "python",
   "name": "python3"
  },
  "language_info": {
   "codemirror_mode": {
    "name": "ipython",
    "version": 3
   },
   "file_extension": ".py",
   "mimetype": "text/x-python",
   "name": "python",
   "nbconvert_exporter": "python",
   "pygments_lexer": "ipython3",
   "version": "3.9.0"
  }
 },
 "nbformat": 4,
 "nbformat_minor": 4
}
